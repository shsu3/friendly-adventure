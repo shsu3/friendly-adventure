{
  "nbformat": 4,
  "nbformat_minor": 0,
  "metadata": {
    "colab": {
      "provenance": []
    },
    "kernelspec": {
      "name": "python3",
      "display_name": "Python 3"
    },
    "language_info": {
      "name": "python"
    }
  },
  "cells": [
    {
      "cell_type": "code",
      "execution_count": null,
      "metadata": {
        "id": "w-KMd_lbnDgF"
      },
      "outputs": [],
      "source": [
        "#1 query open po (0905)Query\n",
        "\n",
        "import pandas as pd\n",
        "\n",
        "df = pd.read_csv('po0905.csv')\n",
        "i = df[['NAME','VENDOR','PO','ITEM','SHORT TEXT','BALANCE QTY','VENDOR ETD']]  #select field name \n",
        "df1=i\n",
        "while True:\n",
        "    \n",
        "    var1=int(input(\"Input vendor code :\\n\")) #input  vendor code by int\n",
        "    filt1 =  (df1['VENDOR'] ==var1) \n",
        "    #i = df[['NAME','VENDOR','PO','ITEM','SHORT TEXT','BALANCE QTY','VENDOR ETD']]  #select field name \n",
        "    df =  pd.DataFrame(i)\n",
        "#    print(df.loc[filt])\n",
        "\n",
        "    filename=str(var1)+\".csv\"   #change vcode to filename  \n",
        "    df[filt1].to_csv(filename)\n",
        "    \n",
        "    print('Do you want to quit(Y/N)?')\n",
        "    your_reply = input()\n",
        "    if your_reply == \"Y\":\n",
        "        break\n",
        "print('good bye!')"
      ]
    }
  ]
}